{
 "cells": [
  {
   "cell_type": "markdown",
   "metadata": {},
   "source": [
    "## Analiz için Sorular\n",
    "* Vardiya analizi\n",
    "Hangi vardiyalarda daha yüksek verimlilik elde ediliyor?\n",
    "Hangi makine veya gruplar daha yüksek verimlilik gösteriyor?\n",
    "Vardiyaların verimlilik sıralaması nasıl? 1>2>3 gibi mi?\n",
    "* Gün analizi\n",
    "Haftanın hangi günleri daha fazla verimlilik elde ediliyor?\n",
    "Hafta içi mi, yoksa hafta sonu mu daha iyi verimlilik sağlıyor?\n",
    "İş günleri ve hafta sonu arasındaki verimlilik farkı nedir???\n",
    "* Ürün analizi\n",
    "Hangi ürünler daha fazla üretim yapılıyor?\n",
    "Hangi makineler hangi ürünleri üretebiliyor?\n",
    "Ürünlerin desen zorluğu skorları nedir?\n",
    "Ürünlerin verimlilikleri birbiriyle nasıl ilişkili?\n",
    "* Operatör analizi\n",
    "Operatörlerin performansı nasıl??\n",
    "Hangi operatörler daha yüksek verimlilik sağlıyor?\n",
    "Operatörlerin vardiya bazındaki performansı nasıl değişiyor?\n",
    "* Makine analizi\n",
    "* Nasıl iyileştirmeler yapılabilir?\n",
    "Hangi faktörler verimliliği etkiliyor?\n",
    "Hangi faktörler iyileştirilebilir ve verimliliği artırabilir?\n",
    "Hangi makineler veya vardiyalar daha fazla dikkate alınmalıdır?"
   ]
  },
  {
   "cell_type": "markdown",
   "metadata": {},
   "source": [
    "# Veri hazırlığı"
   ]
  },
  {
   "cell_type": "code",
   "execution_count": null,
   "metadata": {},
   "outputs": [],
   "source": [
    "import pandas as pd\n",
    "import random\n",
    "import numpy as np\n",
    "import seaborn as sns\n",
    "import matplotlib.pyplot as plt\n",
    "sns.set_theme(style=\"whitegrid\")\n",
    "pd.set_option('display.max_columns', None)\n",
    "pd.set_option('display.float_format', lambda x: '%.3f' % x)\n",
    "pd.set_option('display.width', 500)"
   ]
  },
  {
   "cell_type": "code",
   "execution_count": null,
   "metadata": {},
   "outputs": [],
   "source": [
    "# Verileri yükleme\n",
    "df=pd.read_csv(\"/home/ubuntu/zendesk/merged.csv\")"
   ]
  },
  {
   "cell_type": "markdown",
   "metadata": {},
   "source": [
    "* Değişken ekleme / verileri hazırlama\n",
    "\n"
   ]
  },
  {
   "cell_type": "code",
   "execution_count": null,
   "metadata": {},
   "outputs": [],
   "source": [
    "df[\"Date\"] = pd.to_datetime(df[\"Date\"])\n",
    "\n",
    "df[\"YarnCode\"] = df[\"YarnCode\"].astype(\"object\")\n",
    "df[\"Operator\"] = df[\"Operator\"].astype(\"object\")\n",
    "df[\"Shift\"] = df[\"Shift\"].astype(\"object\")\n",
    "\n",
    "# Aylık veriler\n",
    "df_aylik = df.resample('M', on='Date').mean()\n",
    "\n",
    "# Haftalık veriler\n",
    "df_haftalik = df.resample('W', on='Date').mean()\n",
    "\n",
    " # df.set_index('Date', inplace=True)\n",
    "#Yıl,ay ve haftanın günleri ve vardiya saati\n",
    "df['Yıl'] = df[\"Date\"].dt.year\n",
    "df['Ay'] = df[\"Date\"].dt.month\n",
    "df['Haftanın_Günü'] = df[\"Date\"].dt.weekday\n",
    "haftanin_gunleri = {0: 'Pazartesi', 1: 'Salı', 2: 'Çarşamba', 3: 'Perşembe', 4: 'Cuma', 5: 'Cumartesi', 6: 'Pazar'}\n",
    "df['Haftanın_Günü'] = df[\"Date\"].dt.weekday.map(haftanin_gunleri)\n",
    "df['Vardiya_Saati'] = df['Shift'].map({1: 'Sabah', 2: 'Akşam', 3: 'Gece'})\n",
    "\n",
    "#Yıllık ve aylık ortalama verimlilikler dataframe şeklinde\n",
    "Yıllık_veri = df.groupby(\"Yıl\")['Efficiency'].mean().reset_index()\n",
    "aylık_veri = df.groupby([\"Yıl\",\"Ay\"])['Efficiency'].mean().reset_index()\n",
    "veri_2022 = df[df['Yıl'] == 2022]\n",
    "veri_2023 = df[df['Yıl'] == 2023]"
   ]
  },
  {
   "cell_type": "markdown",
   "metadata": {},
   "source": [
    "# Haftanın günlerine göre ortalama verimlilik"
   ]
  },
  {
   "cell_type": "code",
   "execution_count": null,
   "metadata": {},
   "outputs": [],
   "source": [
    "df_gunluk_ortalama = df.groupby([df[\"Date\"].dt.date,\"Vardiya_Saati\"])[['Efficiency',\"CycleTime\"]].mean().reset_index()\n",
    "df_gunluk_ortalama.head()"
   ]
  },
  {
   "cell_type": "code",
   "execution_count": null,
   "metadata": {},
   "outputs": [],
   "source": [
    "\n",
    "Gün_bazında_verimlilikler = df.groupby(\"Haftanın_Günü\",as_index=False)[\"Efficiency\"].mean()\n",
    "\n",
    "plt.figure(figsize=(10, 6))\n",
    "ax = sns.barplot(data=Gün_bazında_verimlilikler, x=\"Haftanın_Günü\", y=\"Efficiency\")\n",
    "plt.title(\"Haftanın Günlerine Göre Efficiency Dağılımı\")\n",
    "plt.xlabel(\"Haftanın_Günü\")\n",
    "plt.ylabel(\"Efficiency\")\n",
    "plt.xticks(rotation=45, fontsize=12)\n",
    "plt.yticks(fontsize=12)\n",
    "plt.grid(True, linestyle='--', alpha=0.6)\n",
    "\n",
    "plt.tight_layout()\n",
    "for p in ax.patches:\n",
    "    ax.annotate(f'{p.get_height():.2f}', (p.get_x() + p.get_width() / 2, p.get_height()), ha='center', va='bottom')\n",
    "ax.plot([-0.5, 6.5], [88.81, 89.74], color='red', linestyle='--', linewidth=1)\n",
    "\n",
    "plt.show()"
   ]
  },
  {
   "cell_type": "markdown",
   "metadata": {},
   "source": [
    "# AYLIK VE HAFTALIK VERİMLİLİK GRAFİĞİ"
   ]
  },
  {
   "cell_type": "code",
   "execution_count": null,
   "metadata": {},
   "outputs": [],
   "source": [
    "plt.figure(figsize=(12, 6))\n",
    "ax1 = plt.gca()\n",
    "ax2 = ax1.twinx()\n",
    "\n",
    "ax1.plot(df_aylik.index, df_aylik['Efficiency'], marker='o', linestyle='-', color='blue', label='Aylık')\n",
    "ax2.plot(df_haftalik.index, df_haftalik['Efficiency'], marker='o', linestyle='-', color='green', label='Haftalık')\n",
    "\n",
    "ax1.set_ylabel('Aylık Verimlilik', color='blue')\n",
    "ax2.set_ylabel('Haftalık Verimlilik', color='green')\n",
    "\n",
    "plt.title('Aylık ve Haftalık Verimlilik Grafiği')\n",
    "plt.show()"
   ]
  },
  {
   "cell_type": "markdown",
   "metadata": {},
   "source": [
    "# Operatör analizi"
   ]
  },
  {
   "cell_type": "markdown",
   "metadata": {},
   "source": [
    "Vardiyalara göre Efficiency grafiği"
   ]
  },
  {
   "cell_type": "code",
   "execution_count": null,
   "metadata": {},
   "outputs": [],
   "source": [
    "\n",
    "plt.figure(figsize=(10, 6))\n",
    "ax = sns.barplot(data=df.groupby(\"Vardiya_Saati\")[\"Efficiency\"].mean().reset_index(), x=\"Vardiya_Saati\", y=\"Efficiency\", width=0.7)\n",
    "plt.title(\"Vardiyalara Göre Efficiency Dağılımı\")\n",
    "plt.xlabel(\"Vardiya_Saati\")\n",
    "plt.ylabel(\"Efficiency\")\n",
    "plt.xticks(rotation=45, fontsize=12)\n",
    "plt.yticks(fontsize=12)\n",
    "plt.grid(True, linestyle='--', alpha=0.6)\n",
    "\n",
    "plt.tight_layout()\n",
    "for p in ax.patches:\n",
    "    ax.annotate(f'{p.get_height():.2f}', (p.get_x() + p.get_width() / 2, p.get_height()), ha='center', va='bottom')\n",
    "ax.plot([-0.5, 6.5], [88.81, 89.74], color='red', linestyle='--', linewidth=1)\n",
    "\n",
    "plt.show()"
   ]
  },
  {
   "cell_type": "markdown",
   "metadata": {},
   "source": [
    "Ortalama verimliliklerin belirlenmesi ve bir verimlilik scalası belirlenmesi"
   ]
  },
  {
   "cell_type": "code",
   "execution_count": null,
   "metadata": {},
   "outputs": [],
   "source": [
    "operatör_verimlilik_ortalamaları = df.groupby(\"Operator\")[\"Efficiency\"].mean().reset_index()\n",
    "operatör_verimlilik_ortalamaları[\"Efficiency_Grup\"] = pd.cut(operatör_verimlilik_ortalamaları[\"Efficiency\"], bins=[0, 25, 50, 75, 100], labels=['1-25', '26-50', '51-75', '76-100'])\n",
    "\n",
    "operatör_grupları = operatör_verimlilik_ortalamaları.groupby(\"Efficiency_Grup\")[\"Operator\"].unique()\n",
    "df_operatör_grupları = operatör_grupları.reset_index(name='Operatörler')"
   ]
  },
  {
   "cell_type": "markdown",
   "metadata": {},
   "source": [
    "Operatör verimlilikleri en çok verimli olana doğru sıralama\n"
   ]
  },
  {
   "cell_type": "code",
   "execution_count": null,
   "metadata": {},
   "outputs": [],
   "source": [
    "operatör_verimlilik_ortalamaları.sort_values(by=\"Efficiency\", ascending=True) "
   ]
  },
  {
   "cell_type": "markdown",
   "metadata": {},
   "source": [
    "Efficiency gruplarına göre operatörlere ulaşma"
   ]
  },
  {
   "cell_type": "code",
   "execution_count": null,
   "metadata": {},
   "outputs": [],
   "source": [
    "\n",
    "df_operatör_grupları[df_operatör_grupları[\"Efficiency_Grup\"] == '76-100']['Operatörler'].values[0]"
   ]
  },
  {
   "cell_type": "markdown",
   "metadata": {},
   "source": [
    "Genel olarak Operatörlerin vardiya bazındaki performansı nasıl değişiyor? Bunun incelenmesi"
   ]
  },
  {
   "cell_type": "code",
   "execution_count": null,
   "metadata": {},
   "outputs": [],
   "source": [
    "Vardiya_performansı = df.groupby(['Haftanın_Günü', 'Operator', 'Vardiya_Saati'])['Efficiency'].mean().reset_index()\n",
    "\n",
    "\n",
    "plt.figure(figsize=(12, 6))\n",
    "sns.boxplot(x='Vardiya_Saati', y='Efficiency', data=Vardiya_performansı)\n",
    "plt.title('Operatörlerin Vardiya Bazında Performansı')\n",
    "plt.xlabel('Vardiya')\n",
    "plt.ylabel('Günlük Performans')\n",
    "plt.show()"
   ]
  },
  {
   "cell_type": "markdown",
   "metadata": {},
   "source": [
    "Aykırı değerleri daha iyi gözlemlemek için"
   ]
  },
  {
   "cell_type": "code",
   "execution_count": null,
   "metadata": {},
   "outputs": [],
   "source": [
    "\n",
    "\n",
    "sns.stripplot(data=Vardiya_performansı, x=\"Efficiency\", y=\"Haftanın_Günü\", hue=\"Haftanın_Günü\", legend=False)"
   ]
  },
  {
   "cell_type": "markdown",
   "metadata": {},
   "source": [
    "Örneğin herhangi bir operatorun vardiya performansının incelenmesi"
   ]
  },
  {
   "cell_type": "code",
   "execution_count": null,
   "metadata": {},
   "outputs": [],
   "source": [
    "def operator_performans_görseli(df, operator_id):\n",
    "    operator = df[df[\"Operator\"] == operator_id]\n",
    "    performans = operator.groupby([\"Haftanın_Günü\", \"Vardiya_Saati\"])[\"Efficiency\"].mean().reset_index()\n",
    "    plt.figure(figsize=(12, 5))\n",
    "    ax = sns.barplot(x=\"Vardiya_Saati\", y='Efficiency', data=performans)\n",
    "    plt.title(f\"{operator_id} Nolu Operatörün Vardiya Bazında Performansı\")\n",
    "    plt.xlabel(\"Vardiya\")\n",
    "    plt.ylabel(\"Günlük Performans\")\n",
    "    for p in ax.patches:\n",
    "        ax.annotate(f'{p.get_height():.2f}', (p.get_x() + p.get_width() / 2, p.get_height()), ha='center', va='bottom')\n",
    "\n",
    "    plt.show()\n",
    "\n",
    "\n",
    "operator_performans_görseli(Vardiya_performansı, 23382)"
   ]
  },
  {
   "cell_type": "markdown",
   "metadata": {},
   "source": [
    "# Makinaların analizi"
   ]
  },
  {
   "cell_type": "markdown",
   "metadata": {},
   "source": [
    "Genel olarak makinaların verimliliklerini gözlemleme"
   ]
  },
  {
   "cell_type": "code",
   "execution_count": null,
   "metadata": {},
   "outputs": [],
   "source": [
    "\n",
    "mach_verimlilikler = df.groupby('MachCode')[\"Efficiency\"].mean().reset_index()\n",
    "mach_verimlilikler.sort_values(by=\"Efficiency\",ascending=False)"
   ]
  },
  {
   "cell_type": "markdown",
   "metadata": {},
   "source": [
    "Aylara göre bir dataframe oluşturma"
   ]
  },
  {
   "cell_type": "code",
   "execution_count": null,
   "metadata": {},
   "outputs": [],
   "source": [
    "mach_gruplar = df.groupby(['MachCode',\"Ay\"])[\"Efficiency\"].mean().reset_index()\n",
    "mach_gruplar"
   ]
  },
  {
   "cell_type": "markdown",
   "metadata": {},
   "source": [
    "Hangi makine kaç farklı ürün üretmiş? Bunun analizi"
   ]
  },
  {
   "cell_type": "code",
   "execution_count": null,
   "metadata": {},
   "outputs": [],
   "source": [
    "\n",
    "\n",
    "makine_urun_sayısı = df.groupby(\"MachCode\")[\"ProductCode\"].nunique().reset_index()\n",
    "makine_urun_sayısı = makine_urun_sayısı.sort_values(by=\"ProductCode\", ascending=False)\n",
    "\n",
    "plt.figure(figsize=(12, 6))\n",
    "barplot= plt.bar(range(1, len(makine_urun_sayısı) + 1), makine_urun_sayısı[\"ProductCode\"], color=\"skyblue\")\n",
    "plt.xlabel(\"Makine Kodu\")\n",
    "plt.ylabel(\"Farklı Ürün Sayısı\")\n",
    "plt.title(\"Her Makinenin Üretebildiği Farklı Ürün Sayısı\")\n",
    "plt.xticks(range(1, 25), range(1, 25))\n",
    "for rect in barplot:\n",
    "    height = rect.get_height()\n",
    "    plt.text(rect.get_x() + rect.get_width() / 2, height, str(int(height)), ha=\"center\", va=\"bottom\")\n",
    "plt.xticks(range(1, len(makine_urun_sayısı) + 1), makine_urun_sayısı[\"MachCode\"])\n",
    "\n",
    "plt.show()"
   ]
  },
  {
   "cell_type": "markdown",
   "metadata": {},
   "source": [
    "Tüm Makinelerin aylara göre verimlilik grafiğini veren fonksiyon"
   ]
  },
  {
   "cell_type": "code",
   "execution_count": null,
   "metadata": {},
   "outputs": [],
   "source": [
    "def makine_verimlilik(MachCode):\n",
    "    plt.figure(figsize=(12, 6))\n",
    "    veri_makine = mach_gruplar[mach_gruplar[\"MachCode\"] == MachCode]\n",
    "    aylar = veri_makine[\"Ay\"].unique()\n",
    "    ortalama_verimlilik = veri_makine.groupby(\"Ay\")[\"Efficiency\"].mean()\n",
    "    sns.lineplot(x=aylar, y=ortalama_verimlilik, marker='o', label=f'Makine {MachCode}')\n",
    "    \n",
    "    plt.title(f'{MachCode} nolu Makine için Aylara Göre Ortalama Verimlilik')\n",
    "    plt.xlabel('Ay')\n",
    "    plt.ylabel('Aylık Ortalama Verimlilik')\n",
    "    plt.legend(loc='best')\n",
    "    plt.show()\n",
    "\n",
    "for i in df[\"MachCode\"].unique():\n",
    "    makine_verimlilik(i)"
   ]
  },
  {
   "cell_type": "markdown",
   "metadata": {},
   "source": [
    "Yüzdelik dilime göre CycleTime değerleri"
   ]
  },
  {
   "cell_type": "code",
   "execution_count": null,
   "metadata": {},
   "outputs": [],
   "source": [
    "percentiles = [0, 10, 20, 30, 40, 50, 60, 70, 80, 90, 100]\n",
    "cycletime_percentiles = df['CycleTime'].quantile([p / 100 for p in percentiles])\n",
    "plt.figure(figsize=(10, 6))\n",
    "plt.plot(percentiles, cycletime_percentiles, marker='o')\n",
    "plt.title('CycleTime Yüzdelik Dilim Grafiği')\n",
    "plt.xlabel('Yüzdelik Dilim')\n",
    "plt.ylabel('CycleTime Değerleri')\n",
    "plt.grid(True, linestyle='--', alpha=0.6)\n",
    "plt.show()"
   ]
  },
  {
   "cell_type": "markdown",
   "metadata": {},
   "source": [
    "# Ürün analizi"
   ]
  },
  {
   "cell_type": "code",
   "execution_count": null,
   "metadata": {},
   "outputs": [],
   "source": [
    "df.CycleTime.min(), df.CycleTime.max()"
   ]
  },
  {
   "cell_type": "markdown",
   "metadata": {},
   "source": [
    "CycleTime yani her bir eşsiz ürünün dönemsel olarak üretim sürelerini incelemek için sinüs eğrisi kullandım.\n",
    "Çünkü sinüs eğrisi düzenli dönemsel davranışları temsil edebilir. "
   ]
  },
  {
   "cell_type": "code",
   "execution_count": null,
   "metadata": {},
   "outputs": [],
   "source": [
    "aylara_göre_cycletime_ort = df.groupby(\"Ay\")[\"CycleTime\"].mean().reset_index()\n",
    "A, B, C = np.polyfit(aylara_göre_cycletime_ort[\"Ay\"], aylara_göre_cycletime_ort[\"CycleTime\"], 2) \n",
    "#2. dereceden bir polinom kullandık çünkü parabolik bir eğri görmek istiyoruz. \n",
    "\n",
    "sinus_katsayisi = 1 / (A * 2)\n",
    "sinus_periyodu = 2 * np.pi / B\n",
    "\n",
    "\n",
    "x = np.linspace(1, len(aylara_göre_cycletime_ort[\"CycleTime\"]), 5000)\n",
    "y = sinus_katsayisi * np.sin(B * x + C)\n",
    "\n",
    "plt.figure(figsize=(12, 6))\n",
    "sns.lineplot(x=\"Ay\", y=\"CycleTime\", data=aylara_göre_cycletime_ort, label=\"Üretim Süreleri\")\n",
    "sns.lineplot(x=x, y=y, label=\"Sinüs Yaklaşımı\", palette=\"muted\")\n",
    "\n",
    "plt.xlabel(\"Zaman\")\n",
    "plt.ylabel(\"Üretim Süreleri\")\n",
    "plt.title(\"Üretim Süreleri ve Sinüs Yaklaşımı\")\n",
    "plt.legend()\n",
    "\n",
    "plt.show()\n"
   ]
  },
  {
   "cell_type": "markdown",
   "metadata": {},
   "source": [
    "Ürünlerin yapılış sürelerinin uzunluğuna göre zorluk scalalarının belirlenmesi"
   ]
  },
  {
   "cell_type": "code",
   "execution_count": null,
   "metadata": {},
   "outputs": [],
   "source": [
    "productcode_cycletime_ort = df.groupby(\"ProductCode\")[\"CycleTime\"].mean().to_dict()\n",
    "max_cycletime = df[\"CycleTime\"].max()\n",
    "min_cycletime = df[\"CycleTime\"].min()\n",
    "df[\"Zorluk_Seviyesi\"] = df[\"ProductCode\"].map(productcode_cycletime_ort).apply(lambda x: round(1 + 9 * (x - min_cycletime) / (max_cycletime - min_cycletime)))\n"
   ]
  },
  {
   "cell_type": "markdown",
   "metadata": {},
   "source": [
    "Hangi ürün daha çok üretilmiş?"
   ]
  },
  {
   "cell_type": "code",
   "execution_count": null,
   "metadata": {},
   "outputs": [],
   "source": [
    "ürün_üretim_sayısı = df['ProductCode'].value_counts().reset_index()\n",
    "ürün_üretim_sayısı.columns = ['ProductCode', 'ÜretimSayısı']\n",
    "ürün_üretim_sayısı.head(10)\n"
   ]
  },
  {
   "cell_type": "markdown",
   "metadata": {},
   "source": [
    "İplik çeşidine göre Efficieny ve CycleTime değerleri nasıl? Hangi iplik çeşidi daha fazla verimlilik sağlamış?"
   ]
  },
  {
   "cell_type": "code",
   "execution_count": null,
   "metadata": {},
   "outputs": [],
   "source": [
    "ort_efficiency_yarncode = df.groupby(\"YarnCode\")[\"Efficiency\"].mean().reset_index()\n",
    "ort_efficiency_yarncode.sort_values(by=\"Efficiency\", ascending=False)"
   ]
  },
  {
   "cell_type": "markdown",
   "metadata": {},
   "source": [
    "Hangi iplik çeşidi daha uzun sürede üretilmiş?"
   ]
  },
  {
   "cell_type": "code",
   "execution_count": null,
   "metadata": {},
   "outputs": [],
   "source": [
    "ort_CycleTime_yarncode = df.groupby(\"YarnCode\")[\"CycleTime\"].mean().reset_index()\n",
    "ort_CycleTime_yarncode.sort_values(by=\"CycleTime\", ascending=False)"
   ]
  },
  {
   "cell_type": "markdown",
   "metadata": {},
   "source": [
    "Efficency ile CycleTime arasında bir ilişki var mı? \n",
    " (  Yani en düşük cycle time için en verimli üretim diyebilir miyiz? )\n"
   ]
  },
  {
   "cell_type": "code",
   "execution_count": null,
   "metadata": {},
   "outputs": [],
   "source": [
    "import scipy.stats as stats\n",
    "\n",
    "korelasyon, p_deger = stats.pearsonr(df[\"Efficiency\"], df[\"CycleTime\"])\n",
    "print(f\"Pearson Korelasyon Katsayısı: {korelasyon}\")\n",
    "\n",
    "if p_deger < 0.05:\n",
    "    print(\"Efficency ile Cycle arasında anlamlı bir korelasyon vardır.\")\n",
    "else:\n",
    "    print(\"Efficency ile Cycle arasında anlamlı bir korelasyon yoktur.\")"
   ]
  },
  {
   "cell_type": "code",
   "execution_count": null,
   "metadata": {},
   "outputs": [],
   "source": [
    "correlation = df[\"CycleTime\"].corr(df[\"Efficiency\"])\n",
    "\n",
    "abs_correlation = abs(correlation)\n",
    "\n",
    "print(\"Korelasyon Katsayısı:\", correlation)\n",
    "print(\"Mutlak Korelasyon Katsayısı:\", abs_correlation)"
   ]
  },
  {
   "cell_type": "code",
   "execution_count": null,
   "metadata": {},
   "outputs": [],
   "source": [
    "subset = df[['CycleTime', 'Efficiency']]\n",
    "\n",
    "sns.pairplot(subset, kind='scatter')\n",
    "plt.show()"
   ]
  },
  {
   "cell_type": "markdown",
   "metadata": {},
   "source": [
    "* Beklenildiği gibi CycleTime düştükçe Efficiency yükseldiği gözlemleniyor. Yani Ne kadar düşük Cycletime o kadar verim.\n",
    "* 2023 Mart-Nisan aylarında Efficiency pik noktaya ulaşıyor ve sonrasında ekim 2023'e kadar yaklaşık %10'luk bir düşüş gözlemleniyor.\n",
    "* YarnCode yani iplik çeşidinin doğrudan Efficiency'ye etki ettiğini gözlemleyebiliriz. "
   ]
  },
  {
   "cell_type": "markdown",
   "metadata": {},
   "source": [
    "# Feature Engineering işlemleri"
   ]
  },
  {
   "cell_type": "markdown",
   "metadata": {},
   "source": [
    "https://en.wikipedia.org/wiki/Multivariate_normal_distribution #Multivariate normallik dağılımı"
   ]
  },
  {
   "cell_type": "code",
   "execution_count": null,
   "metadata": {},
   "outputs": [],
   "source": [
    " df = df.drop(\"Shift\", axis=1, inplace=True)\n",
    " df=df.drop([\"GroupCode\",\"Item\",\"adet\"], axis=1,inplace=True)\n",
    " cat_list = [\"GroupCode\",\"ProductCode\",\"YarnCode\",\"Ability\",\"Platin\",\"Yıl\",\"Ay\",\"Haftanın_Günü\",\"Vardiya_Saati\"]\n",
    " for i in cat_list:\n",
    "    cat_dummies = pd.get_dummies(df[i], prefix=var)\n",
    "    df = pd.concat([df, cat_dummies], axis=1)\n",
    "    df = df.drop(i, axis=1)"
   ]
  },
  {
   "cell_type": "code",
   "execution_count": null,
   "metadata": {},
   "outputs": [],
   "source": [
    "## Tamamlanmadı\n",
    "\n",
    "#from statsmodels.tsa.holtwinters import ExponentialSmoothing\n",
    "#machines = df['Makine_Code'].unique()\n",
    "\n",
    "#train_data = df[df['Date'] <= '2023-09-01']\n",
    "\n",
    "#for machine in machines:\n",
    "    #filtered_data = train_data[train_data[\"Makine_Code\"] == machine]\n",
    "    #model = ExponentialSmoothing(df[\"Efficiency\"], trend=\"add\", seasonal=\"add\", seasonal_periods=25)\n",
    "    #model_fit = model.fit(optimized=True, use_boxcox=True)\n",
    "    #forecast = model_fit.forecast(step=25)\n",
    "    #forecast_dates = pd.date_range(start='2023-09-01', periods=25, freq='D')\n",
    "    #forecast_data = pd.DataFrame({'Date': forecast_dates, 'Efficiency_Forecast': forecast})\n",
    "    #return forecast_data"
   ]
  },
  {
   "cell_type": "markdown",
   "metadata": {},
   "source": []
  }
 ],
 "metadata": {
  "kernelspec": {
   "display_name": "Python 3.10.12 64-bit",
   "language": "python",
   "name": "python3"
  },
  "language_info": {
   "codemirror_mode": {
    "name": "ipython",
    "version": 3
   },
   "file_extension": ".py",
   "mimetype": "text/x-python",
   "name": "python",
   "nbconvert_exporter": "python",
   "pygments_lexer": "ipython3",
   "version": "3.10.12"
  },
  "orig_nbformat": 4,
  "vscode": {
   "interpreter": {
    "hash": "916dbcbb3f70747c44a77c7bcd40155683ae19c65e1c03b4aa3499c5328201f1"
   }
  }
 },
 "nbformat": 4,
 "nbformat_minor": 2
}
